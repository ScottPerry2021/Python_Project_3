{
 "cells": [
  {
   "cell_type": "markdown",
   "metadata": {},
   "source": [
    "# Mad Lib Generator  - Scott Perry"
   ]
  },
  {
   "cell_type": "markdown",
   "metadata": {},
   "source": [
    "### Create a tool that automates something in your life (work or personal)"
   ]
  },
  {
   "cell_type": "code",
   "execution_count": null,
   "metadata": {},
   "outputs": [],
   "source": [
    "#python3 can be useful and fun "
   ]
  },
  {
   "cell_type": "markdown",
   "metadata": {},
   "source": [
    "## Final Project - pyt 06232020"
   ]
  },
  {
   "cell_type": "code",
   "execution_count": null,
   "metadata": {},
   "outputs": [],
   "source": [
    "#my goal for this python3 final project was to create something interesting and accessable to a large audiance"
   ]
  },
  {
   "cell_type": "code",
   "execution_count": 59,
   "metadata": {},
   "outputs": [
    {
     "name": "stdout",
     "output_type": "stream",
     "text": [
      "Enter a color: Red\n",
      "Enter a plural noun: Bricks\n",
      "Enter a celebrity: Ryan Gosling\n",
      "\n",
      " Roses are Red\n",
      "\n",
      " Bricks are Blue\n",
      "\n",
      " I Love Ryan Gosling\n",
      "\n",
      "\n"
     ]
    }
   ],
   "source": [
    "# Mad_Lib_Poem\n",
    "#basic user input - three variable \n",
    "\n",
    "color = input (\"Enter a color: \")\n",
    "plural_noun = input (\"Enter a plural noun: \")\n",
    "celebrity = input (\"Enter a celebrity: \")\n",
    "\n",
    "print (\"\\n\",\"Roses are \" + color)\n",
    "print(\"\\n\",plural_noun + \" are Blue\")\n",
    "print(\"\\n\",\"I Love \" + celebrity)\n",
    "print(\"\\n\")\n",
    "\n",
    "#Example user input 1\n",
    "#Red\n",
    "#Bricks\n",
    "#Ryan Gosling\n",
    "\n",
    "#Example user input 2\n",
    "#Pink\n",
    "#Birds\n",
    "#Kim Kardashian"
   ]
  },
  {
   "cell_type": "code",
   "execution_count": 58,
   "metadata": {},
   "outputs": [
    {
     "name": "stdout",
     "output_type": "stream",
     "text": [
      "\n",
      "\n",
      "Welcome to the Mad Lib Game - where you come up with words to fill in the blanks in a story.\n",
      "Our top news story for today is: 'The ______ ______ ______ over the lazy dog.'\n",
      "\n",
      "\n",
      "Let's finish this breaking news story...\n",
      "\n",
      "\n",
      "Enter an adjective (a word that descibes a noun): funny\n",
      "Enter a noun (a person, place or thing): dictator\n",
      "Enter a verb (a word that describes and action): tripped\n",
      "\n",
      "\n",
      "YOUR MAD LIB\n",
      "############\n",
      "\n",
      "\n",
      "The funny dictator tripped over the lazy dog.\n",
      "\n",
      "\n"
     ]
    }
   ],
   "source": [
    "#mad_lib_game\n",
    "#user input requested and saved in three different variables\n",
    "\n",
    "print(\"\\n\")\n",
    "print(\"Welcome to the Mad Lib Game - where you come up with words to fill in the blanks in a story.\")\n",
    "print(\"Our top news story for today is: 'The ______ ______ ______ over the lazy dog.'\")\n",
    "print(\"\\n\")\n",
    "print(\"Let's finish this breaking news story...\")\n",
    "print(\"\\n\")\n",
    "\n",
    "adjective = input (\"Enter an adjective (a word that descibes a noun): \")\n",
    "noun = input (\"Enter a noun (a person, place or thing): \")\n",
    "verb = input(\"Enter a verb (a word that describes and action): \")\n",
    "print(\"\\n\")\n",
    "\n",
    "print(\"YOUR MAD LIB\")\n",
    "print(\"############\")\n",
    "print(\"\\n\")\n",
    "print(\"The\", adjective, noun, verb, \"over the lazy dog.\")\n",
    "print(\"\\n\")\n",
    "\n",
    "# funny\n",
    "# dictator\n",
    "# tripped"
   ]
  },
  {
   "cell_type": "markdown",
   "metadata": {},
   "source": [
    "### Mad Libs Random Story Generator"
   ]
  },
  {
   "cell_type": "code",
   "execution_count": 18,
   "metadata": {},
   "outputs": [],
   "source": [
    "# Mad Libs Random Story Generator\n",
    "\n",
    "from random import randint\n",
    "import copy\n",
    "\n",
    "story = (\n",
    "    \n",
    "    \"One day my {} friend and I decided to go to the {} game in {}. \" \n",
    "    \n",
    "    \"We really wanted to see the {} play the {}. \" \n",
    "    \n",
    "    \"So, we {} our {} down to the {} and bought some {}s. \"\n",
    "    \n",
    "    \"We got into the game and it was a lot of fun. \" \n",
    "    \n",
    "    \"We ate some {} {} and drank some {} {}. \" \n",
    "    \n",
    "    \"We had a great time! We plan to go again next year!\"\n",
    ")"
   ]
  },
  {
   "cell_type": "code",
   "execution_count": null,
   "metadata": {},
   "outputs": [],
   "source": [
    "#randint is a function that is part of the random module. \n",
    "#official Python documentation on it is at random. randint(a, b). \n",
    "#it returns a pseudorandom integer between a and b , inclusive.\n",
    "\n",
    "#Example: print random. randint(1,101) will automatically select a random integer between 1 and 100 for you."
   ]
  },
  {
   "cell_type": "code",
   "execution_count": 19,
   "metadata": {},
   "outputs": [
    {
     "name": "stdout",
     "output_type": "stream",
     "text": [
      "One day my {} friend and I decided to go to the {} game in {}. We really wanted to see the {} play the {}. So, we {} our {} down to the {} and bought some {}s. We got into the game and it was a lot of fun. We ate some {} {} and drank some {} {}. We had a great time! We plan to go again next year!\n"
     ]
    }
   ],
   "source": [
    "print(story)"
   ]
  },
  {
   "cell_type": "code",
   "execution_count": 20,
   "metadata": {},
   "outputs": [],
   "source": [
    "#lookup words by type; for this story we are using 6 different types (i.e. adjectives, city names, and nouns)"
   ]
  },
  {
   "cell_type": "code",
   "execution_count": 21,
   "metadata": {},
   "outputs": [],
   "source": [
    "#create a dictionary to lookup words by type\n",
    "word_dict = {\n",
    "    'adjective':[\n",
    "        'greed', 'abrasive', 'grubby','rich',\n",
    "        'harsh','tasty','funny','sad','smart','honest','outragous'\n",
    "    ],\n",
    "    'city name':['Chicago','New York','Charlotte',\n",
    "                 'Indianapolis','Louisville', 'Denver',\n",
    "                 'Seattle','Portland','San Francisco','Los Angeles'\n",
    "    ],\n",
    "    'noun':['people','map','music','dog','hamster','ball','cat',\n",
    "            'hotdog','pizza','salad','IPA','juice','tea','water'\n",
    "    ],\n",
    "    'action verb':['run','fall','crawl','scurry',\n",
    "                   'cry','watch','swin','jump','bounce'\n",
    "    ],\n",
    "    'sports noun':['ball','mit','puck','uniform','helmet',\n",
    "                   'scoreboard','player','card''basketball','hockey','polo'\n",
    "    ],\n",
    "    'place':['park','desert','forest','store','restaurant','waterfall'\n",
    "    ]\n",
    "}"
   ]
  },
  {
   "cell_type": "code",
   "execution_count": 22,
   "metadata": {},
   "outputs": [
    {
     "name": "stdout",
     "output_type": "stream",
     "text": [
      "{'adjective': ['greed', 'abrasive', 'grubby', 'rich', 'harsh', 'tasty', 'funny', 'sad', 'smart', 'honest', 'outragous'], 'city name': ['Chicago', 'New York', 'Charlotte', 'Indianapolis', 'Louisville', 'Denver', 'Seattle', 'Portland', 'San Francisco', 'Los Angeles'], 'noun': ['people', 'map', 'music', 'dog', 'hamster', 'ball', 'cat', 'hotdog', 'pizza', 'salad', 'IPA', 'juice', 'tea', 'water'], 'action verb': ['run', 'fall', 'crawl', 'scurry', 'cry', 'watch', 'swin', 'jump', 'bounce'], 'sports noun': ['ball', 'mit', 'puck', 'uniform', 'helmet', 'scoreboard', 'player', 'cardbasketball', 'hockey', 'polo'], 'place': ['park', 'desert', 'forest', 'store', 'restaurant', 'waterfall']}\n"
     ]
    }
   ],
   "source": [
    "print(word_dict)"
   ]
  },
  {
   "cell_type": "code",
   "execution_count": 23,
   "metadata": {},
   "outputs": [],
   "source": [
    "def get_word(type, local_dict):\n",
    "        words = local_dict[type]\n",
    "        cnt = len(words)-1\n",
    "        index = randint(0, cnt)\n",
    "        return local_dict[type].pop(index)"
   ]
  },
  {
   "cell_type": "code",
   "execution_count": null,
   "metadata": {},
   "outputs": [],
   "source": [
    "#deepcopy makes the copying process recursive. \n",
    "#first construct a new collection object and \n",
    "#then recursively populating it with copies \n",
    "#of the child objects found in the original.\n",
    "\n",
    "#Copying an object this way walks the whole object tree to create \n",
    "#a fully independent clone of the original object and all of its children"
   ]
  },
  {
   "cell_type": "code",
   "execution_count": 24,
   "metadata": {},
   "outputs": [],
   "source": [
    "# def get_word then def create_function"
   ]
  },
  {
   "cell_type": "code",
   "execution_count": 25,
   "metadata": {},
   "outputs": [],
   "source": [
    "def create_function():\n",
    "    local_dict = copy.deepcopy(word_dict)\n",
    "    return story.format(\n",
    "        get_word('adjective', local_dict),\n",
    "        get_word('sports noun', local_dict),\n",
    "        get_word('city name', local_dict),\n",
    "        get_word('noun', local_dict),\n",
    "        get_word('noun', local_dict),\n",
    "        get_word('action verb', local_dict),\n",
    "        get_word('noun', local_dict),\n",
    "        get_word('place', local_dict),\n",
    "        get_word('noun', local_dict),\n",
    "        get_word('adjective', local_dict),\n",
    "        get_word('noun', local_dict),\n",
    "        get_word('adjective', local_dict),\n",
    "        get_word('noun', local_dict)\n",
    "    )"
   ]
  },
  {
   "cell_type": "code",
   "execution_count": 26,
   "metadata": {},
   "outputs": [],
   "source": [
    "#print our first version of the story with all missing words filled in at random"
   ]
  },
  {
   "cell_type": "code",
   "execution_count": 28,
   "metadata": {},
   "outputs": [
    {
     "name": "stdout",
     "output_type": "stream",
     "text": [
      "STORY 1: \n",
      "One day my sad friend and I decided to go to the scoreboard game in Portland. We really wanted to see the people play the music. So, we swin our hamster down to the desert and bought some IPAs. We got into the game and it was a lot of fun. We ate some funny hotdog and drank some tasty ball. We had a great time! We plan to go again next year!\n",
      "\n"
     ]
    }
   ],
   "source": [
    "print(\"STORY 1: \")\n",
    "print(create_function())\n",
    "print()"
   ]
  },
  {
   "cell_type": "markdown",
   "metadata": {},
   "source": [
    "### Mad Libs Random Story Generator - Final Version"
   ]
  },
  {
   "cell_type": "code",
   "execution_count": 60,
   "metadata": {},
   "outputs": [
    {
     "name": "stdout",
     "output_type": "stream",
     "text": [
      "STORY 1: \n",
      "\n",
      "One day my sad friend and I decided to go to the card game in Los Angeles. \n",
      "We really wanted to see the pizza play the music. \n",
      "So, we wish our school down to the restaurant and bought some cats. \n",
      "We got into the game and it was a lot of fun. \n",
      "We ate some honest hamster and drank some imaginary juice. \n",
      "We had a great time! We plan to go again next year!\n",
      "\n",
      "\n",
      "STORY 2: \n",
      "\n",
      "One day my sad friend and I decided to go to the puck game in Portland. \n",
      "We really wanted to see the president play the hotdog. \n",
      "So, we bounce our school down to the store and bought some peoples. \n",
      "We got into the game and it was a lot of fun. \n",
      "We ate some smart juice and drank some broke dog. \n",
      "We had a great time! We plan to go again next year!\n",
      "\n",
      "STORY 3: \n",
      "\n",
      "One day my harsh friend and I decided to go to the hockey game in Chicago. \n",
      "We really wanted to see the salad play the fool. \n",
      "So, we watch our juice down to the waterfall and bought some musics. \n",
      "We got into the game and it was a lot of fun. \n",
      "We ate some broke flatiron and drank some tasty hotdog. \n",
      "We had a great time! We plan to go again next year!\n",
      "\n",
      "\n",
      "STORY 4: \n",
      "\n",
      "One day my imaginary friend and I decided to go to the hockey game in Seattle. \n",
      "We really wanted to see the dog play the hotdog. \n",
      "So, we break our music down to the waterfall and bought some hamsters. \n",
      "We got into the game and it was a lot of fun. \n",
      "We ate some grubby tea and drank some abrasive juice. \n",
      "We had a great time! We plan to go again next year!\n",
      "\n",
      "STORY 5: \n",
      "\n",
      "One day my happy friend and I decided to go to the puck game in Indianapolis. \n",
      "We really wanted to see the map play the fool. \n",
      "So, we run our school down to the freeway and bought some presidents. \n",
      "We got into the game and it was a lot of fun. \n",
      "We ate some greed hamster and drank some smart cat. \n",
      "We had a great time! We plan to go again next year!\n",
      "\n",
      "\n",
      "STORY 6: \n",
      "\n",
      "One day my broke friend and I decided to go to the player game in Seattle. \n",
      "We really wanted to see the cat play the president. \n",
      "So, we think our hotdog down to the water park and bought some teas. \n",
      "We got into the game and it was a lot of fun. \n",
      "We ate some sweet juice and drank some abrasive salad. \n",
      "We had a great time! We plan to go again next year!\n",
      "\n",
      "STORY 7: \n",
      "\n",
      "One day my funny friend and I decided to go to the puck game in San Francisco. \n",
      "We really wanted to see the president play the tea. \n",
      "So, we feel our school down to the forest and bought some waters. \n",
      "We got into the game and it was a lot of fun. \n",
      "We ate some honest map and drank some outragous juice. \n",
      "We had a great time! We plan to go again next year!\n",
      "\n"
     ]
    }
   ],
   "source": [
    "# pyt - 06232020_Final_Project\n",
    "# Mad Libs Random Story Generator\n",
    "\n",
    "from random import randint\n",
    "import copy\n",
    "\n",
    "story = (\n",
    "    \"\\n\"\n",
    "    \"One day my {} friend and I decided to go to the {} game in {}. \"\n",
    "    \"\\n\"\n",
    "    \"We really wanted to see the {} play the {}. \"\n",
    "    \"\\n\"\n",
    "    \"So, we {} our {} down to the {} and bought some {}s. \"\n",
    "    \"\\n\"\n",
    "    \"We got into the game and it was a lot of fun. \"\n",
    "    \"\\n\"\n",
    "    \"We ate some {} {} and drank some {} {}. \"\n",
    "    \"\\n\"\n",
    "    \"We had a great time! We plan to go again next year!\"\n",
    "    \"\\n\"\n",
    ")\n",
    "\n",
    "#create a dictionary to lookup words by type\n",
    "word_dict = {\n",
    "    'adjective':[\n",
    "        'greed', 'abrasive', 'grubby','rich','harsh','tasty','sweet',\n",
    "        'funny','sad','smart','honest','outragous','imaginary','broke', 'happy'\n",
    "    ],\n",
    "    'city name':[\n",
    "        'Chicago','New York','Charlotte','Indianapolis','Louisville', \n",
    "        'Denver','Seattle','Portland','San Francisco','Los Angeles','Dallas','Reno' \n",
    "    ],\n",
    "    'noun':[\n",
    "        'people','map','music','dog','hamster','ball','cat','hotdog','pizza',\n",
    "        'salad','IPA','juice','tea','water','president','fool','flatiron','school'\n",
    "    ],\n",
    "    'action verb':[\n",
    "        'run','fall','crawl','scurry','cry','watch','swin','jump',\n",
    "        'bounce','roll', 'flip','eat','break','fix','sleep','think','feel','wish'\n",
    "    ],\n",
    "    'sports noun':[\n",
    "        'ball','mit','puck','uniform','helmet','scoreboard','player',\n",
    "        'card','jump-rope','baseball','basketball','hockey','polo','poker','golf'\n",
    "    ],\n",
    "    'place':[\n",
    "        'park','desert','forest','store','restaurant','waterfall','beach',\n",
    "        'city','freeway','water park','rain forest','happy place','yoga mat','ramp'\n",
    "    ]\n",
    "}\n",
    "\n",
    "def get_word(type, local_dict):\n",
    "        words = local_dict[type]\n",
    "        cnt = len(words)-1\n",
    "        index = randint(0, cnt)\n",
    "        return local_dict[type].pop(index)\n",
    "\n",
    "def create_function():\n",
    "    local_dict = copy.deepcopy(word_dict)\n",
    "    return story.format(\n",
    "        get_word('adjective', local_dict),\n",
    "        get_word('sports noun', local_dict),\n",
    "        get_word('city name', local_dict),\n",
    "        get_word('noun', local_dict),\n",
    "        get_word('noun', local_dict),\n",
    "        get_word('action verb', local_dict),\n",
    "        get_word('noun', local_dict),\n",
    "        get_word('place', local_dict),\n",
    "        get_word('noun', local_dict),\n",
    "        get_word('adjective', local_dict),\n",
    "        get_word('noun', local_dict),\n",
    "        get_word('adjective', local_dict),\n",
    "        get_word('noun', local_dict)\n",
    "    )\n",
    "\n",
    "print(\"STORY 1: \")\n",
    "print(create_function())\n",
    "print()\n",
    "print(\"STORY 2: \")\n",
    "print(create_function()) \n",
    "print(\"STORY 3: \")\n",
    "print(create_function())\n",
    "print()\n",
    "print(\"STORY 4: \")\n",
    "print(create_function()) \n",
    "print(\"STORY 5: \")\n",
    "print(create_function())\n",
    "print()\n",
    "print(\"STORY 6: \")\n",
    "print(create_function())    \n",
    "print(\"STORY 7: \")\n",
    "print(create_function()) \n",
    "\n",
    "#Example-1 STORY output:\n",
    "#One day my imaginary friend and I decided to go to the jump-rope game in Indianapolis. \n",
    "#We really wanted to see the people play the juice. \n",
    "#So, we jump our salad down to the restaurant and bought some cats. \n",
    "#We got into the game and it was a lot of fun. \n",
    "#We ate some harsh map and drank some abrasive IPA. \n",
    "#We had a great time! We plan to go again next year!\n",
    "\n",
    "#Example-2 STORY output:\n",
    "#One day my outragous friend and I decided to go to the poker game in San Francisco. \n",
    "#We really wanted to see the hamster play the water. \n",
    "#So, we eat our cat down to the water park and bought some hotdogs. \n",
    "#We got into the game and it was a lot of fun. \n",
    "#We ate some sad dog and drank some funny school. \n",
    "#We had a great time! We plan to go again next year!\n",
    "\n",
    "#Example-3 STORY output:\n",
    "#One day my honest friend and I decided to go to the mit game in Charlotte. \n",
    "#We really wanted to see the tea play the hotdog. \n",
    "#So, we fall our music down to the yoga mat and bought some juices. \n",
    "#We got into the game and it was a lot of fun. \n",
    "#We ate some greed president and drank some tasty school. \n",
    "#We had a great time! We plan to go again next year!"
   ]
  },
  {
   "cell_type": "code",
   "execution_count": 61,
   "metadata": {},
   "outputs": [
    {
     "name": "stdout",
     "output_type": "stream",
     "text": [
      "STORY 8: \n",
      "\n",
      "One day my smart friend and I decided to go to the baseball game in Reno. \n",
      "We really wanted to see the map play the flatiron. \n",
      "So, we roll our IPA down to the ramp and bought some hamsters. \n",
      "We got into the game and it was a lot of fun. \n",
      "We ate some rich salad and drank some greed president. \n",
      "We had a great time! We plan to go again next year!\n",
      "\n",
      "STORY 9: \n",
      "\n",
      "One day my funny friend and I decided to go to the scoreboard game in Chicago. \n",
      "We really wanted to see the ball play the salad. \n",
      "So, we cry our fool down to the desert and bought some cats. \n",
      "We got into the game and it was a lot of fun. \n",
      "We ate some rich president and drank some greed map. \n",
      "We had a great time! We plan to go again next year!\n",
      "\n",
      "\n"
     ]
    }
   ],
   "source": [
    "print(\"STORY 8: \")\n",
    "print(create_function()) \n",
    "print(\"STORY 9: \")\n",
    "print(create_function())\n",
    "print()"
   ]
  },
  {
   "cell_type": "code",
   "execution_count": 62,
   "metadata": {},
   "outputs": [
    {
     "name": "stdout",
     "output_type": "stream",
     "text": [
      "STORY 10: \n",
      "\n",
      "One day my sad friend and I decided to go to the baseball game in Charlotte. \n",
      "We really wanted to see the water play the juice. \n",
      "So, we eat our IPA down to the restaurant and bought some hamsters. \n",
      "We got into the game and it was a lot of fun. \n",
      "We ate some smart pizza and drank some happy dog. \n",
      "We had a great time! We plan to go again next year!\n",
      "\n",
      "STORY 11: \n",
      "\n",
      "One day my honest friend and I decided to go to the baseball game in Indianapolis. \n",
      "We really wanted to see the juice play the map. \n",
      "So, we wish our tea down to the city and bought some salads. \n",
      "We got into the game and it was a lot of fun. \n",
      "We ate some outragous hamster and drank some broke music. \n",
      "We had a great time! We plan to go again next year!\n",
      "\n",
      "\n",
      "STORY 12: \n",
      "\n",
      "One day my abrasive friend and I decided to go to the helmet game in Charlotte. \n",
      "We really wanted to see the people play the fool. \n",
      "So, we bounce our water down to the city and bought some cats. \n",
      "We got into the game and it was a lot of fun. \n",
      "We ate some harsh school and drank some broke ball. \n",
      "We had a great time! We plan to go again next year!\n",
      "\n",
      "STORY 13: \n",
      "\n",
      "One day my sweet friend and I decided to go to the jump-rope game in Portland. \n",
      "We really wanted to see the tea play the water. \n",
      "So, we watch our salad down to the beach and bought some cats. \n",
      "We got into the game and it was a lot of fun. \n",
      "We ate some harsh pizza and drank some outragous ball. \n",
      "We had a great time! We plan to go again next year!\n",
      "\n"
     ]
    }
   ],
   "source": [
    "print(\"STORY 10: \")\n",
    "print(create_function()) \n",
    "print(\"STORY 11: \")\n",
    "print(create_function())\n",
    "print()\n",
    "print(\"STORY 12: \")\n",
    "print(create_function())    \n",
    "print(\"STORY 13: \")\n",
    "print(create_function()) "
   ]
  },
  {
   "cell_type": "code",
   "execution_count": null,
   "metadata": {},
   "outputs": [],
   "source": [
    "#Bonus option: using the same formate as a Mad Lib you can create a automated cover letter generator!"
   ]
  }
 ],
 "metadata": {
  "kernelspec": {
   "display_name": "Python 3",
   "language": "python",
   "name": "python3"
  },
  "language_info": {
   "codemirror_mode": {
    "name": "ipython",
    "version": 3
   },
   "file_extension": ".py",
   "mimetype": "text/x-python",
   "name": "python",
   "nbconvert_exporter": "python",
   "pygments_lexer": "ipython3",
   "version": "3.8.3"
  }
 },
 "nbformat": 4,
 "nbformat_minor": 2
}
